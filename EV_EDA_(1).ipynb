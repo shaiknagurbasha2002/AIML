{
  "cells": [
    {
      "cell_type": "markdown",
      "metadata": {
        "id": "view-in-github",
        "colab_type": "text"
      },
      "source": [
        "<a href=\"https://colab.research.google.com/github/shaiknagurbasha2002/AIML/blob/main/EV_EDA_(1).ipynb\" target=\"_parent\"><img src=\"https://colab.research.google.com/assets/colab-badge.svg\" alt=\"Open In Colab\"/></a>"
      ]
    },
    {
      "cell_type": "code",
      "execution_count": null,
      "id": "d69ccffc",
      "metadata": {
        "id": "d69ccffc"
      },
      "outputs": [],
      "source": [
        "3import pandas as pd\n",
        "import numpy as np\n",
        "import matplotlib.pyplot as plt\n",
        "import seaborn as sns"
      ]
    },
    {
      "cell_type": "code",
      "execution_count": null,
      "id": "1d0ce2ee",
      "metadata": {
        "id": "1d0ce2ee"
      },
      "outputs": [],
      "source": [
        "dataframe = pd.read_csv('Electric_Vehicle_Population_Data.csv')"
      ]
    },
    {
      "cell_type": "code",
      "execution_count": null,
      "id": "dd13ff72",
      "metadata": {
        "id": "dd13ff72",
        "outputId": "5a2c67cf-59f2-48f0-ba35-9fb6d99289e2"
      },
      "outputs": [
        {
          "data": {
            "text/html": [
              "<div>\n",
              "<style scoped>\n",
              "    .dataframe tbody tr th:only-of-type {\n",
              "        vertical-align: middle;\n",
              "    }\n",
              "\n",
              "    .dataframe tbody tr th {\n",
              "        vertical-align: top;\n",
              "    }\n",
              "\n",
              "    .dataframe thead th {\n",
              "        text-align: right;\n",
              "    }\n",
              "</style>\n",
              "<table border=\"1\" class=\"dataframe\">\n",
              "  <thead>\n",
              "    <tr style=\"text-align: right;\">\n",
              "      <th></th>\n",
              "      <th>VIN (1-10)</th>\n",
              "      <th>County</th>\n",
              "      <th>City</th>\n",
              "      <th>State</th>\n",
              "      <th>Postal Code</th>\n",
              "      <th>Model Year</th>\n",
              "      <th>Make</th>\n",
              "      <th>Model</th>\n",
              "      <th>Electric Vehicle Type</th>\n",
              "      <th>Clean Alternative Fuel Vehicle (CAFV) Eligibility</th>\n",
              "      <th>Electric Range</th>\n",
              "      <th>Base MSRP</th>\n",
              "      <th>Legislative District</th>\n",
              "      <th>DOL Vehicle ID</th>\n",
              "      <th>Vehicle Location</th>\n",
              "      <th>Electric Utility</th>\n",
              "      <th>2020 Census Tract</th>\n",
              "    </tr>\n",
              "  </thead>\n",
              "  <tbody>\n",
              "    <tr>\n",
              "      <th>0</th>\n",
              "      <td>2C4RC1N71H</td>\n",
              "      <td>Kitsap</td>\n",
              "      <td>Bremerton</td>\n",
              "      <td>WA</td>\n",
              "      <td>98311.0</td>\n",
              "      <td>2017</td>\n",
              "      <td>CHRYSLER</td>\n",
              "      <td>PACIFICA</td>\n",
              "      <td>Plug-in Hybrid Electric Vehicle (PHEV)</td>\n",
              "      <td>Clean Alternative Fuel Vehicle Eligible</td>\n",
              "      <td>33</td>\n",
              "      <td>0</td>\n",
              "      <td>23.0</td>\n",
              "      <td>349437882</td>\n",
              "      <td>POINT (-122.6466274 47.6341188)</td>\n",
              "      <td>PUGET SOUND ENERGY INC</td>\n",
              "      <td>5.303509e+10</td>\n",
              "    </tr>\n",
              "    <tr>\n",
              "      <th>1</th>\n",
              "      <td>2C4RC1N7XL</td>\n",
              "      <td>Stevens</td>\n",
              "      <td>Colville</td>\n",
              "      <td>WA</td>\n",
              "      <td>99114.0</td>\n",
              "      <td>2020</td>\n",
              "      <td>CHRYSLER</td>\n",
              "      <td>PACIFICA</td>\n",
              "      <td>Plug-in Hybrid Electric Vehicle (PHEV)</td>\n",
              "      <td>Clean Alternative Fuel Vehicle Eligible</td>\n",
              "      <td>32</td>\n",
              "      <td>0</td>\n",
              "      <td>7.0</td>\n",
              "      <td>154690532</td>\n",
              "      <td>POINT (-117.90431 48.547075)</td>\n",
              "      <td>AVISTA CORP</td>\n",
              "      <td>5.306595e+10</td>\n",
              "    </tr>\n",
              "    <tr>\n",
              "      <th>2</th>\n",
              "      <td>KNDC3DLCXN</td>\n",
              "      <td>Yakima</td>\n",
              "      <td>Yakima</td>\n",
              "      <td>WA</td>\n",
              "      <td>98908.0</td>\n",
              "      <td>2022</td>\n",
              "      <td>KIA</td>\n",
              "      <td>EV6</td>\n",
              "      <td>Battery Electric Vehicle (BEV)</td>\n",
              "      <td>Eligibility unknown as battery range has not b...</td>\n",
              "      <td>0</td>\n",
              "      <td>0</td>\n",
              "      <td>14.0</td>\n",
              "      <td>219969144</td>\n",
              "      <td>POINT (-120.6027202 46.5965625)</td>\n",
              "      <td>PACIFICORP</td>\n",
              "      <td>5.307700e+10</td>\n",
              "    </tr>\n",
              "    <tr>\n",
              "      <th>3</th>\n",
              "      <td>5YJ3E1EA0J</td>\n",
              "      <td>Kitsap</td>\n",
              "      <td>Bainbridge Island</td>\n",
              "      <td>WA</td>\n",
              "      <td>98110.0</td>\n",
              "      <td>2018</td>\n",
              "      <td>TESLA</td>\n",
              "      <td>MODEL 3</td>\n",
              "      <td>Battery Electric Vehicle (BEV)</td>\n",
              "      <td>Clean Alternative Fuel Vehicle Eligible</td>\n",
              "      <td>215</td>\n",
              "      <td>0</td>\n",
              "      <td>23.0</td>\n",
              "      <td>476786887</td>\n",
              "      <td>POINT (-122.5235781 47.6293323)</td>\n",
              "      <td>PUGET SOUND ENERGY INC</td>\n",
              "      <td>5.303509e+10</td>\n",
              "    </tr>\n",
              "    <tr>\n",
              "      <th>4</th>\n",
              "      <td>1N4AZ1CP7J</td>\n",
              "      <td>Thurston</td>\n",
              "      <td>Tumwater</td>\n",
              "      <td>WA</td>\n",
              "      <td>98501.0</td>\n",
              "      <td>2018</td>\n",
              "      <td>NISSAN</td>\n",
              "      <td>LEAF</td>\n",
              "      <td>Battery Electric Vehicle (BEV)</td>\n",
              "      <td>Clean Alternative Fuel Vehicle Eligible</td>\n",
              "      <td>151</td>\n",
              "      <td>0</td>\n",
              "      <td>35.0</td>\n",
              "      <td>201185253</td>\n",
              "      <td>POINT (-122.89692 47.043535)</td>\n",
              "      <td>PUGET SOUND ENERGY INC</td>\n",
              "      <td>5.306701e+10</td>\n",
              "    </tr>\n",
              "  </tbody>\n",
              "</table>\n",
              "</div>"
            ],
            "text/plain": [
              "   VIN (1-10)    County               City State  Postal Code  Model Year  \\\n",
              "0  2C4RC1N71H    Kitsap          Bremerton    WA      98311.0        2017   \n",
              "1  2C4RC1N7XL   Stevens           Colville    WA      99114.0        2020   \n",
              "2  KNDC3DLCXN    Yakima             Yakima    WA      98908.0        2022   \n",
              "3  5YJ3E1EA0J    Kitsap  Bainbridge Island    WA      98110.0        2018   \n",
              "4  1N4AZ1CP7J  Thurston           Tumwater    WA      98501.0        2018   \n",
              "\n",
              "       Make     Model                   Electric Vehicle Type  \\\n",
              "0  CHRYSLER  PACIFICA  Plug-in Hybrid Electric Vehicle (PHEV)   \n",
              "1  CHRYSLER  PACIFICA  Plug-in Hybrid Electric Vehicle (PHEV)   \n",
              "2       KIA       EV6          Battery Electric Vehicle (BEV)   \n",
              "3     TESLA   MODEL 3          Battery Electric Vehicle (BEV)   \n",
              "4    NISSAN      LEAF          Battery Electric Vehicle (BEV)   \n",
              "\n",
              "   Clean Alternative Fuel Vehicle (CAFV) Eligibility  Electric Range  \\\n",
              "0            Clean Alternative Fuel Vehicle Eligible              33   \n",
              "1            Clean Alternative Fuel Vehicle Eligible              32   \n",
              "2  Eligibility unknown as battery range has not b...               0   \n",
              "3            Clean Alternative Fuel Vehicle Eligible             215   \n",
              "4            Clean Alternative Fuel Vehicle Eligible             151   \n",
              "\n",
              "   Base MSRP  Legislative District  DOL Vehicle ID  \\\n",
              "0          0                  23.0       349437882   \n",
              "1          0                   7.0       154690532   \n",
              "2          0                  14.0       219969144   \n",
              "3          0                  23.0       476786887   \n",
              "4          0                  35.0       201185253   \n",
              "\n",
              "                  Vehicle Location        Electric Utility  2020 Census Tract  \n",
              "0  POINT (-122.6466274 47.6341188)  PUGET SOUND ENERGY INC       5.303509e+10  \n",
              "1     POINT (-117.90431 48.547075)             AVISTA CORP       5.306595e+10  \n",
              "2  POINT (-120.6027202 46.5965625)              PACIFICORP       5.307700e+10  \n",
              "3  POINT (-122.5235781 47.6293323)  PUGET SOUND ENERGY INC       5.303509e+10  \n",
              "4     POINT (-122.89692 47.043535)  PUGET SOUND ENERGY INC       5.306701e+10  "
            ]
          },
          "execution_count": 5,
          "metadata": {},
          "output_type": "execute_result"
        }
      ],
      "source": [
        "dataframe.head()"
      ]
    },
    {
      "cell_type": "code",
      "execution_count": null,
      "id": "f94e0d6c",
      "metadata": {
        "id": "f94e0d6c",
        "outputId": "4c39eefb-eb7c-4c82-b3ce-6bf469a5376f"
      },
      "outputs": [
        {
          "data": {
            "text/html": [
              "<div>\n",
              "<style scoped>\n",
              "    .dataframe tbody tr th:only-of-type {\n",
              "        vertical-align: middle;\n",
              "    }\n",
              "\n",
              "    .dataframe tbody tr th {\n",
              "        vertical-align: top;\n",
              "    }\n",
              "\n",
              "    .dataframe thead th {\n",
              "        text-align: right;\n",
              "    }\n",
              "</style>\n",
              "<table border=\"1\" class=\"dataframe\">\n",
              "  <thead>\n",
              "    <tr style=\"text-align: right;\">\n",
              "      <th></th>\n",
              "      <th>VIN (1-10)</th>\n",
              "      <th>County</th>\n",
              "      <th>City</th>\n",
              "      <th>State</th>\n",
              "      <th>Postal Code</th>\n",
              "      <th>Model Year</th>\n",
              "      <th>Make</th>\n",
              "      <th>Model</th>\n",
              "      <th>Electric Vehicle Type</th>\n",
              "      <th>Clean Alternative Fuel Vehicle (CAFV) Eligibility</th>\n",
              "      <th>Electric Range</th>\n",
              "      <th>Base MSRP</th>\n",
              "      <th>Legislative District</th>\n",
              "      <th>DOL Vehicle ID</th>\n",
              "      <th>Vehicle Location</th>\n",
              "      <th>Electric Utility</th>\n",
              "      <th>2020 Census Tract</th>\n",
              "    </tr>\n",
              "  </thead>\n",
              "  <tbody>\n",
              "    <tr>\n",
              "      <th>159462</th>\n",
              "      <td>KM8JBDA2XP</td>\n",
              "      <td>Skamania</td>\n",
              "      <td>Underwood</td>\n",
              "      <td>WA</td>\n",
              "      <td>98651.0</td>\n",
              "      <td>2023</td>\n",
              "      <td>HYUNDAI</td>\n",
              "      <td>TUCSON</td>\n",
              "      <td>Plug-in Hybrid Electric Vehicle (PHEV)</td>\n",
              "      <td>Clean Alternative Fuel Vehicle Eligible</td>\n",
              "      <td>33</td>\n",
              "      <td>0</td>\n",
              "      <td>14.0</td>\n",
              "      <td>235949514</td>\n",
              "      <td>POINT (-121.5312858 45.7348285)</td>\n",
              "      <td>BONNEVILLE POWER ADMINISTRATION||PUD NO 1 OF S...</td>\n",
              "      <td>5.305995e+10</td>\n",
              "    </tr>\n",
              "    <tr>\n",
              "      <th>159463</th>\n",
              "      <td>1G1FZ6S02M</td>\n",
              "      <td>Skagit</td>\n",
              "      <td>Bow</td>\n",
              "      <td>WA</td>\n",
              "      <td>98232.0</td>\n",
              "      <td>2021</td>\n",
              "      <td>CHEVROLET</td>\n",
              "      <td>BOLT EV</td>\n",
              "      <td>Battery Electric Vehicle (BEV)</td>\n",
              "      <td>Eligibility unknown as battery range has not b...</td>\n",
              "      <td>0</td>\n",
              "      <td>0</td>\n",
              "      <td>40.0</td>\n",
              "      <td>148544168</td>\n",
              "      <td>POINT (-122.440636 48.5613885)</td>\n",
              "      <td>PUGET SOUND ENERGY INC</td>\n",
              "      <td>5.305795e+10</td>\n",
              "    </tr>\n",
              "    <tr>\n",
              "      <th>159464</th>\n",
              "      <td>YV4H60CX2P</td>\n",
              "      <td>King</td>\n",
              "      <td>Sammamish</td>\n",
              "      <td>WA</td>\n",
              "      <td>98029.0</td>\n",
              "      <td>2023</td>\n",
              "      <td>VOLVO</td>\n",
              "      <td>XC90</td>\n",
              "      <td>Plug-in Hybrid Electric Vehicle (PHEV)</td>\n",
              "      <td>Clean Alternative Fuel Vehicle Eligible</td>\n",
              "      <td>32</td>\n",
              "      <td>0</td>\n",
              "      <td>5.0</td>\n",
              "      <td>240200754</td>\n",
              "      <td>POINT (-121.9993659 47.5484866)</td>\n",
              "      <td>PUGET SOUND ENERGY INC||CITY OF TACOMA - (WA)</td>\n",
              "      <td>5.303303e+10</td>\n",
              "    </tr>\n",
              "    <tr>\n",
              "      <th>159465</th>\n",
              "      <td>5YJ3E1EA7K</td>\n",
              "      <td>Whatcom</td>\n",
              "      <td>Bellingham</td>\n",
              "      <td>WA</td>\n",
              "      <td>98225.0</td>\n",
              "      <td>2019</td>\n",
              "      <td>TESLA</td>\n",
              "      <td>MODEL 3</td>\n",
              "      <td>Battery Electric Vehicle (BEV)</td>\n",
              "      <td>Clean Alternative Fuel Vehicle Eligible</td>\n",
              "      <td>220</td>\n",
              "      <td>0</td>\n",
              "      <td>40.0</td>\n",
              "      <td>156680590</td>\n",
              "      <td>POINT (-122.486115 48.761615)</td>\n",
              "      <td>PUGET SOUND ENERGY INC||PUD NO 1 OF WHATCOM CO...</td>\n",
              "      <td>5.307300e+10</td>\n",
              "    </tr>\n",
              "    <tr>\n",
              "      <th>159466</th>\n",
              "      <td>7SAYGDEF6N</td>\n",
              "      <td>Island</td>\n",
              "      <td>Camano Island</td>\n",
              "      <td>WA</td>\n",
              "      <td>98282.0</td>\n",
              "      <td>2022</td>\n",
              "      <td>TESLA</td>\n",
              "      <td>MODEL Y</td>\n",
              "      <td>Battery Electric Vehicle (BEV)</td>\n",
              "      <td>Eligibility unknown as battery range has not b...</td>\n",
              "      <td>0</td>\n",
              "      <td>0</td>\n",
              "      <td>10.0</td>\n",
              "      <td>208285619</td>\n",
              "      <td>POINT (-122.5310901 48.2192797)</td>\n",
              "      <td>BONNEVILLE POWER ADMINISTRATION||PUD 1 OF SNOH...</td>\n",
              "      <td>5.302997e+10</td>\n",
              "    </tr>\n",
              "  </tbody>\n",
              "</table>\n",
              "</div>"
            ],
            "text/plain": [
              "        VIN (1-10)    County           City State  Postal Code  Model Year  \\\n",
              "159462  KM8JBDA2XP  Skamania      Underwood    WA      98651.0        2023   \n",
              "159463  1G1FZ6S02M    Skagit            Bow    WA      98232.0        2021   \n",
              "159464  YV4H60CX2P      King      Sammamish    WA      98029.0        2023   \n",
              "159465  5YJ3E1EA7K   Whatcom     Bellingham    WA      98225.0        2019   \n",
              "159466  7SAYGDEF6N    Island  Camano Island    WA      98282.0        2022   \n",
              "\n",
              "             Make    Model                   Electric Vehicle Type  \\\n",
              "159462    HYUNDAI   TUCSON  Plug-in Hybrid Electric Vehicle (PHEV)   \n",
              "159463  CHEVROLET  BOLT EV          Battery Electric Vehicle (BEV)   \n",
              "159464      VOLVO     XC90  Plug-in Hybrid Electric Vehicle (PHEV)   \n",
              "159465      TESLA  MODEL 3          Battery Electric Vehicle (BEV)   \n",
              "159466      TESLA  MODEL Y          Battery Electric Vehicle (BEV)   \n",
              "\n",
              "        Clean Alternative Fuel Vehicle (CAFV) Eligibility  Electric Range  \\\n",
              "159462            Clean Alternative Fuel Vehicle Eligible              33   \n",
              "159463  Eligibility unknown as battery range has not b...               0   \n",
              "159464            Clean Alternative Fuel Vehicle Eligible              32   \n",
              "159465            Clean Alternative Fuel Vehicle Eligible             220   \n",
              "159466  Eligibility unknown as battery range has not b...               0   \n",
              "\n",
              "        Base MSRP  Legislative District  DOL Vehicle ID  \\\n",
              "159462          0                  14.0       235949514   \n",
              "159463          0                  40.0       148544168   \n",
              "159464          0                   5.0       240200754   \n",
              "159465          0                  40.0       156680590   \n",
              "159466          0                  10.0       208285619   \n",
              "\n",
              "                       Vehicle Location  \\\n",
              "159462  POINT (-121.5312858 45.7348285)   \n",
              "159463   POINT (-122.440636 48.5613885)   \n",
              "159464  POINT (-121.9993659 47.5484866)   \n",
              "159465    POINT (-122.486115 48.761615)   \n",
              "159466  POINT (-122.5310901 48.2192797)   \n",
              "\n",
              "                                         Electric Utility  2020 Census Tract  \n",
              "159462  BONNEVILLE POWER ADMINISTRATION||PUD NO 1 OF S...       5.305995e+10  \n",
              "159463                             PUGET SOUND ENERGY INC       5.305795e+10  \n",
              "159464      PUGET SOUND ENERGY INC||CITY OF TACOMA - (WA)       5.303303e+10  \n",
              "159465  PUGET SOUND ENERGY INC||PUD NO 1 OF WHATCOM CO...       5.307300e+10  \n",
              "159466  BONNEVILLE POWER ADMINISTRATION||PUD 1 OF SNOH...       5.302997e+10  "
            ]
          },
          "execution_count": 6,
          "metadata": {},
          "output_type": "execute_result"
        }
      ],
      "source": [
        "dataframe.tail()"
      ]
    },
    {
      "cell_type": "code",
      "execution_count": null,
      "id": "b79c3843",
      "metadata": {
        "id": "b79c3843",
        "outputId": "dcc55c2b-8c6b-48b8-d145-02b5a9f9f687"
      },
      "outputs": [
        {
          "data": {
            "text/plain": [
              "VIN (1-10)                                            object\n",
              "County                                                object\n",
              "City                                                  object\n",
              "State                                                 object\n",
              "Postal Code                                          float64\n",
              "Model Year                                             int64\n",
              "Make                                                  object\n",
              "Model                                                 object\n",
              "Electric Vehicle Type                                 object\n",
              "Clean Alternative Fuel Vehicle (CAFV) Eligibility     object\n",
              "Electric Range                                         int64\n",
              "Base MSRP                                              int64\n",
              "Legislative District                                 float64\n",
              "DOL Vehicle ID                                         int64\n",
              "Vehicle Location                                      object\n",
              "Electric Utility                                      object\n",
              "2020 Census Tract                                    float64\n",
              "dtype: object"
            ]
          },
          "execution_count": 7,
          "metadata": {},
          "output_type": "execute_result"
        }
      ],
      "source": [
        "dataframe.dtypes"
      ]
    },
    {
      "cell_type": "code",
      "execution_count": null,
      "id": "ed068a71",
      "metadata": {
        "id": "ed068a71",
        "outputId": "00bd5471-fe94-4f9d-c3f7-0150874caa09"
      },
      "outputs": [
        {
          "data": {
            "text/plain": [
              "(159467, 17)"
            ]
          },
          "execution_count": 8,
          "metadata": {},
          "output_type": "execute_result"
        }
      ],
      "source": [
        "dataframe.shape"
      ]
    },
    {
      "cell_type": "code",
      "execution_count": null,
      "id": "c33f8064",
      "metadata": {
        "id": "c33f8064",
        "outputId": "870ff757-9754-4d71-a82d-0d12e0e74c75"
      },
      "outputs": [
        {
          "name": "stdout",
          "output_type": "stream",
          "text": [
            "<class 'pandas.core.frame.DataFrame'>\n",
            "RangeIndex: 159467 entries, 0 to 159466\n",
            "Data columns (total 17 columns):\n",
            " #   Column                                             Non-Null Count   Dtype  \n",
            "---  ------                                             --------------   -----  \n",
            " 0   VIN (1-10)                                         159467 non-null  object \n",
            " 1   County                                             159463 non-null  object \n",
            " 2   City                                               159463 non-null  object \n",
            " 3   State                                              159467 non-null  object \n",
            " 4   Postal Code                                        159463 non-null  float64\n",
            " 5   Model Year                                         159467 non-null  int64  \n",
            " 6   Make                                               159467 non-null  object \n",
            " 7   Model                                              159467 non-null  object \n",
            " 8   Electric Vehicle Type                              159467 non-null  object \n",
            " 9   Clean Alternative Fuel Vehicle (CAFV) Eligibility  159467 non-null  object \n",
            " 10  Electric Range                                     159467 non-null  int64  \n",
            " 11  Base MSRP                                          159467 non-null  int64  \n",
            " 12  Legislative District                               159106 non-null  float64\n",
            " 13  DOL Vehicle ID                                     159467 non-null  int64  \n",
            " 14  Vehicle Location                                   159458 non-null  object \n",
            " 15  Electric Utility                                   159463 non-null  object \n",
            " 16  2020 Census Tract                                  159463 non-null  float64\n",
            "dtypes: float64(3), int64(4), object(10)\n",
            "memory usage: 20.7+ MB\n"
          ]
        }
      ],
      "source": [
        "dataframe.info()"
      ]
    },
    {
      "cell_type": "code",
      "execution_count": null,
      "id": "a25d509b",
      "metadata": {
        "id": "a25d509b",
        "outputId": "b08d5c51-3358-40fb-a49e-0b5806c9dee6"
      },
      "outputs": [
        {
          "data": {
            "text/plain": [
              "VIN (1-10)                                             0\n",
              "County                                                 4\n",
              "City                                                   4\n",
              "State                                                  0\n",
              "Postal Code                                            4\n",
              "Model Year                                             0\n",
              "Make                                                   0\n",
              "Model                                                  0\n",
              "Electric Vehicle Type                                  0\n",
              "Clean Alternative Fuel Vehicle (CAFV) Eligibility      0\n",
              "Electric Range                                         0\n",
              "Base MSRP                                              0\n",
              "Legislative District                                 361\n",
              "DOL Vehicle ID                                         0\n",
              "Vehicle Location                                       9\n",
              "Electric Utility                                       4\n",
              "2020 Census Tract                                      4\n",
              "dtype: int64"
            ]
          },
          "execution_count": 10,
          "metadata": {},
          "output_type": "execute_result"
        }
      ],
      "source": [
        "dataframe.isnull().sum()"
      ]
    },
    {
      "cell_type": "markdown",
      "id": "7d2516c1",
      "metadata": {
        "id": "7d2516c1"
      },
      "source": [
        "The missing values present in country,city ,postal code,Vehicle location,Electric utility,Census,Legislative District and Base MSRP"
      ]
    },
    {
      "cell_type": "markdown",
      "id": "461871d2",
      "metadata": {
        "id": "461871d2"
      },
      "source": [
        "### Handling the missing Values"
      ]
    },
    {
      "cell_type": "markdown",
      "id": "85f41970",
      "metadata": {
        "id": "85f41970"
      },
      "source": [
        "##### Deleting rows and coloumns in missing data"
      ]
    },
    {
      "cell_type": "code",
      "execution_count": null,
      "id": "4bf41e15",
      "metadata": {
        "id": "4bf41e15"
      },
      "outputs": [],
      "source": [
        "df=dataframe.dropna(axis=1) #deleting the missing coloumns for axis=1"
      ]
    },
    {
      "cell_type": "code",
      "execution_count": null,
      "id": "d1c805c0",
      "metadata": {
        "id": "d1c805c0",
        "outputId": "79272ebe-c715-4ed0-d739-c870ea3271b4"
      },
      "outputs": [
        {
          "name": "stdout",
          "output_type": "stream",
          "text": [
            "<class 'pandas.core.frame.DataFrame'>\n",
            "RangeIndex: 159467 entries, 0 to 159466\n",
            "Data columns (total 10 columns):\n",
            " #   Column                                             Non-Null Count   Dtype \n",
            "---  ------                                             --------------   ----- \n",
            " 0   VIN (1-10)                                         159467 non-null  object\n",
            " 1   State                                              159467 non-null  object\n",
            " 2   Model Year                                         159467 non-null  int64 \n",
            " 3   Make                                               159467 non-null  object\n",
            " 4   Model                                              159467 non-null  object\n",
            " 5   Electric Vehicle Type                              159467 non-null  object\n",
            " 6   Clean Alternative Fuel Vehicle (CAFV) Eligibility  159467 non-null  object\n",
            " 7   Electric Range                                     159467 non-null  int64 \n",
            " 8   Base MSRP                                          159467 non-null  int64 \n",
            " 9   DOL Vehicle ID                                     159467 non-null  int64 \n",
            "dtypes: int64(4), object(6)\n",
            "memory usage: 12.2+ MB\n"
          ]
        }
      ],
      "source": [
        "df.info()"
      ]
    },
    {
      "cell_type": "code",
      "execution_count": null,
      "id": "7b3a81ed",
      "metadata": {
        "id": "7b3a81ed",
        "outputId": "5b59620a-696c-4b36-e148-68c0dcc94e07"
      },
      "outputs": [
        {
          "data": {
            "text/plain": [
              "VIN (1-10)                                           0\n",
              "State                                                0\n",
              "Model Year                                           0\n",
              "Make                                                 0\n",
              "Model                                                0\n",
              "Electric Vehicle Type                                0\n",
              "Clean Alternative Fuel Vehicle (CAFV) Eligibility    0\n",
              "Electric Range                                       0\n",
              "Base MSRP                                            0\n",
              "DOL Vehicle ID                                       0\n",
              "dtype: int64"
            ]
          },
          "execution_count": 13,
          "metadata": {},
          "output_type": "execute_result"
        }
      ],
      "source": [
        "df.isnull().sum()"
      ]
    },
    {
      "cell_type": "markdown",
      "source": [],
      "metadata": {
        "id": "Agbu6qFrQrad"
      },
      "id": "Agbu6qFrQrad"
    },
    {
      "cell_type": "markdown",
      "id": "03f7e830",
      "metadata": {
        "id": "03f7e830"
      },
      "source": [
        "The problem with deleting coloumns is that we may loose some information on that feature"
      ]
    },
    {
      "cell_type": "code",
      "execution_count": null,
      "id": "de109cfc",
      "metadata": {
        "id": "de109cfc"
      },
      "outputs": [],
      "source": [
        "df=dataframe.dropna(axis=0) #deleting the missing rows for axis=0"
      ]
    },
    {
      "cell_type": "code",
      "execution_count": null,
      "id": "115487bd",
      "metadata": {
        "id": "115487bd",
        "outputId": "6a44b766-70a5-4549-b079-572f39cd58c4"
      },
      "outputs": [
        {
          "name": "stdout",
          "output_type": "stream",
          "text": [
            "<class 'pandas.core.frame.DataFrame'>\n",
            "Int64Index: 159101 entries, 0 to 159466\n",
            "Data columns (total 17 columns):\n",
            " #   Column                                             Non-Null Count   Dtype  \n",
            "---  ------                                             --------------   -----  \n",
            " 0   VIN (1-10)                                         159101 non-null  object \n",
            " 1   County                                             159101 non-null  object \n",
            " 2   City                                               159101 non-null  object \n",
            " 3   State                                              159101 non-null  object \n",
            " 4   Postal Code                                        159101 non-null  float64\n",
            " 5   Model Year                                         159101 non-null  int64  \n",
            " 6   Make                                               159101 non-null  object \n",
            " 7   Model                                              159101 non-null  object \n",
            " 8   Electric Vehicle Type                              159101 non-null  object \n",
            " 9   Clean Alternative Fuel Vehicle (CAFV) Eligibility  159101 non-null  object \n",
            " 10  Electric Range                                     159101 non-null  int64  \n",
            " 11  Base MSRP                                          159101 non-null  int64  \n",
            " 12  Legislative District                               159101 non-null  float64\n",
            " 13  DOL Vehicle ID                                     159101 non-null  int64  \n",
            " 14  Vehicle Location                                   159101 non-null  object \n",
            " 15  Electric Utility                                   159101 non-null  object \n",
            " 16  2020 Census Tract                                  159101 non-null  float64\n",
            "dtypes: float64(3), int64(4), object(10)\n",
            "memory usage: 21.8+ MB\n"
          ]
        }
      ],
      "source": [
        "df.info()"
      ]
    },
    {
      "cell_type": "code",
      "execution_count": null,
      "id": "5bb4d13c",
      "metadata": {
        "id": "5bb4d13c",
        "outputId": "9a78df36-ddc3-45e6-bf9d-572fae3accd7"
      },
      "outputs": [
        {
          "data": {
            "text/plain": [
              "VIN (1-10)                                           0\n",
              "County                                               0\n",
              "City                                                 0\n",
              "State                                                0\n",
              "Postal Code                                          0\n",
              "Model Year                                           0\n",
              "Make                                                 0\n",
              "Model                                                0\n",
              "Electric Vehicle Type                                0\n",
              "Clean Alternative Fuel Vehicle (CAFV) Eligibility    0\n",
              "Electric Range                                       0\n",
              "Base MSRP                                            0\n",
              "Legislative District                                 0\n",
              "DOL Vehicle ID                                       0\n",
              "Vehicle Location                                     0\n",
              "Electric Utility                                     0\n",
              "2020 Census Tract                                    0\n",
              "dtype: int64"
            ]
          },
          "execution_count": 15,
          "metadata": {},
          "output_type": "execute_result"
        }
      ],
      "source": [
        "df.isnull().sum()"
      ]
    },
    {
      "cell_type": "markdown",
      "id": "a907e5f4",
      "metadata": {
        "id": "a907e5f4"
      },
      "source": [
        " In this case we cannot lose any information of coloumns but we delete the entire rows which have null values.There is a possibility of getting better analysis on features."
      ]
    },
    {
      "cell_type": "markdown",
      "id": "9715ee3f",
      "metadata": {
        "id": "9715ee3f"
      },
      "source": [
        "##### Filling the missing Values"
      ]
    },
    {
      "cell_type": "code",
      "execution_count": null,
      "id": "84f1897d",
      "metadata": {
        "id": "84f1897d",
        "outputId": "9f74bd6d-743b-46f1-8116-43bb13580b69"
      },
      "outputs": [
        {
          "data": {
            "text/plain": [
              "29.261674606865864"
            ]
          },
          "execution_count": 20,
          "metadata": {},
          "output_type": "execute_result"
        }
      ],
      "source": [
        "dataframe['Legislative District'].mean()"
      ]
    },
    {
      "cell_type": "code",
      "execution_count": null,
      "id": "8d10a42d",
      "metadata": {
        "id": "8d10a42d",
        "outputId": "1e9c3a7d-2fad-48df-c92a-b45e1e9c499d"
      },
      "outputs": [
        {
          "data": {
            "text/plain": [
              "0    King\n",
              "Name: County, dtype: object"
            ]
          },
          "execution_count": 33,
          "metadata": {},
          "output_type": "execute_result"
        }
      ],
      "source": [
        "dataframe['County'].mode()"
      ]
    },
    {
      "cell_type": "code",
      "execution_count": null,
      "id": "0163ad0b",
      "metadata": {
        "id": "0163ad0b",
        "outputId": "09e27dcb-0eb5-45e9-ecac-f11ede8a9145"
      },
      "outputs": [
        {
          "data": {
            "text/plain": [
              "0    Seattle\n",
              "Name: City, dtype: object"
            ]
          },
          "execution_count": 34,
          "metadata": {},
          "output_type": "execute_result"
        }
      ],
      "source": [
        "dataframe['City'].mode()"
      ]
    },
    {
      "cell_type": "markdown",
      "id": "8c23e30b",
      "metadata": {
        "id": "8c23e30b"
      },
      "source": [
        "fillna-fills the null values ,dropna-drops the null values,bfill-backward filling null values,ffill-forward filling null values\n"
      ]
    },
    {
      "cell_type": "code",
      "execution_count": null,
      "id": "6d322493",
      "metadata": {
        "id": "6d322493",
        "outputId": "835d4ff9-0fd6-4c13-d4a9-4941c3caba89"
      },
      "outputs": [
        {
          "name": "stdout",
          "output_type": "stream",
          "text": [
            "<class 'pandas.core.frame.DataFrame'>\n",
            "RangeIndex: 159467 entries, 0 to 159466\n",
            "Data columns (total 17 columns):\n",
            " #   Column                                             Non-Null Count   Dtype  \n",
            "---  ------                                             --------------   -----  \n",
            " 0   VIN (1-10)                                         159467 non-null  object \n",
            " 1   County                                             159467 non-null  object \n",
            " 2   City                                               159467 non-null  object \n",
            " 3   State                                              159467 non-null  object \n",
            " 4   Postal Code                                        159467 non-null  float64\n",
            " 5   Model Year                                         159467 non-null  int64  \n",
            " 6   Make                                               159467 non-null  object \n",
            " 7   Model                                              159467 non-null  object \n",
            " 8   Electric Vehicle Type                              159467 non-null  object \n",
            " 9   Clean Alternative Fuel Vehicle (CAFV) Eligibility  159467 non-null  object \n",
            " 10  Electric Range                                     159467 non-null  int64  \n",
            " 11  Base MSRP                                          159467 non-null  int64  \n",
            " 12  Legislative District                               159467 non-null  float64\n",
            " 13  DOL Vehicle ID                                     159467 non-null  int64  \n",
            " 14  Vehicle Location                                   159458 non-null  object \n",
            " 15  Electric Utility                                   159463 non-null  object \n",
            " 16  2020 Census Tract                                  159467 non-null  float64\n",
            "dtypes: float64(3), int64(4), object(10)\n",
            "memory usage: 20.7+ MB\n"
          ]
        }
      ],
      "source": [
        "df=dataframe\n",
        "df[['Legislative District', 'Postal Code','2020 Census Tract']] = df[['Legislative District', 'Postal Code','2020 Census Tract']].fillna(df[['Legislative District', 'Postal Code','2020 Census Tract']].mean())\n",
        "df.info()"
      ]
    },
    {
      "cell_type": "code",
      "execution_count": null,
      "id": "5a58ab37",
      "metadata": {
        "id": "5a58ab37",
        "outputId": "5136bc6a-dcd6-4fb6-9227-de6748980585"
      },
      "outputs": [
        {
          "name": "stdout",
          "output_type": "stream",
          "text": [
            "<class 'pandas.core.frame.DataFrame'>\n",
            "RangeIndex: 159467 entries, 0 to 159466\n",
            "Data columns (total 17 columns):\n",
            " #   Column                                             Non-Null Count   Dtype  \n",
            "---  ------                                             --------------   -----  \n",
            " 0   VIN (1-10)                                         159467 non-null  object \n",
            " 1   County                                             159467 non-null  object \n",
            " 2   City                                               159467 non-null  object \n",
            " 3   State                                              159467 non-null  object \n",
            " 4   Postal Code                                        159467 non-null  float64\n",
            " 5   Model Year                                         159467 non-null  int64  \n",
            " 6   Make                                               159467 non-null  object \n",
            " 7   Model                                              159467 non-null  object \n",
            " 8   Electric Vehicle Type                              159467 non-null  object \n",
            " 9   Clean Alternative Fuel Vehicle (CAFV) Eligibility  159467 non-null  object \n",
            " 10  Electric Range                                     159467 non-null  int64  \n",
            " 11  Base MSRP                                          159467 non-null  int64  \n",
            " 12  Legislative District                               159467 non-null  float64\n",
            " 13  DOL Vehicle ID                                     159467 non-null  int64  \n",
            " 14  Vehicle Location                                   159467 non-null  object \n",
            " 15  Electric Utility                                   159463 non-null  object \n",
            " 16  2020 Census Tract                                  159467 non-null  float64\n",
            "dtypes: float64(3), int64(4), object(10)\n",
            "memory usage: 20.7+ MB\n"
          ]
        }
      ],
      "source": [
        "df=dataframe\n",
        "df[['County', 'City','Vehicle Location']] = df[['County', 'City','Vehicle Location']].fillna(df[['County', 'City','Vehicle Location']].mode().iloc[0])\n",
        "df.info()"
      ]
    },
    {
      "cell_type": "markdown",
      "id": "e20d73c7",
      "metadata": {
        "id": "e20d73c7"
      },
      "source": [
        "Mean:\n",
        "\n",
        "Impact of Outliers: The mean is sensitive to extreme values (outliers), which means that a few extreme values can significantly influence the mean. In such cases, the mean might not represent the \"typical\" value well.\n",
        "\n",
        "Example: Consider a dataset representing salaries of employees in a company. If the majority of salaries fall within a similar range without extreme outliers, using the mean might provide a good estimate of the typical salary.\n",
        "\n",
        "Median:\n",
        "\n",
        "Impact of Outliers: The median is robust to outliers. This means that even if there are extreme values in your dataset, the median is less affected and remains a better measure of central tendency in skewed distributions.\n",
        "\n",
        "Example: In a dataset representing household income, if a few extremely high-income households are present (outliers), using the median might better represent the typical income level of the majority."
      ]
    },
    {
      "cell_type": "code",
      "execution_count": null,
      "id": "d2a30b6d",
      "metadata": {
        "id": "d2a30b6d",
        "outputId": "b6430e92-3889-45a8-ab70-6c76c35d7cd1"
      },
      "outputs": [
        {
          "name": "stdout",
          "output_type": "stream",
          "text": [
            "<class 'pandas.core.frame.DataFrame'>\n",
            "RangeIndex: 159467 entries, 0 to 159466\n",
            "Data columns (total 17 columns):\n",
            " #   Column                                             Non-Null Count   Dtype  \n",
            "---  ------                                             --------------   -----  \n",
            " 0   VIN (1-10)                                         159467 non-null  object \n",
            " 1   County                                             159467 non-null  object \n",
            " 2   City                                               159467 non-null  object \n",
            " 3   State                                              159467 non-null  object \n",
            " 4   Postal Code                                        159467 non-null  float64\n",
            " 5   Model Year                                         159467 non-null  int64  \n",
            " 6   Make                                               159467 non-null  object \n",
            " 7   Model                                              159467 non-null  object \n",
            " 8   Electric Vehicle Type                              159467 non-null  object \n",
            " 9   Clean Alternative Fuel Vehicle (CAFV) Eligibility  159467 non-null  object \n",
            " 10  Electric Range                                     159467 non-null  int64  \n",
            " 11  Base MSRP                                          159467 non-null  int64  \n",
            " 12  Legislative District                               159467 non-null  float64\n",
            " 13  DOL Vehicle ID                                     159467 non-null  int64  \n",
            " 14  Vehicle Location                                   159467 non-null  object \n",
            " 15  Electric Utility                                   159467 non-null  object \n",
            " 16  2020 Census Tract                                  159467 non-null  float64\n",
            "dtypes: float64(3), int64(4), object(10)\n",
            "memory usage: 20.7+ MB\n"
          ]
        }
      ],
      "source": [
        "df=dataframe\n",
        "df[['Electric Utility']] = df[['Electric Utility']].fillna(df[['Electric Utility']].bfill())\n",
        "df.info()"
      ]
    }
  ],
  "metadata": {
    "kernelspec": {
      "display_name": "Python 3 (ipykernel)",
      "language": "python",
      "name": "python3"
    },
    "language_info": {
      "codemirror_mode": {
        "name": "ipython",
        "version": 3
      },
      "file_extension": ".py",
      "mimetype": "text/x-python",
      "name": "python",
      "nbconvert_exporter": "python",
      "pygments_lexer": "ipython3",
      "version": "3.10.9"
    },
    "colab": {
      "provenance": [],
      "include_colab_link": true
    }
  },
  "nbformat": 4,
  "nbformat_minor": 5
}